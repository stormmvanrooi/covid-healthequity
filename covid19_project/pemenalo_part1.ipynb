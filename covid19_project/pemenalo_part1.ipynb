{
 "cells": [
  {
   "cell_type": "code",
   "execution_count": 19,
   "id": "84ab0604",
   "metadata": {},
   "outputs": [],
   "source": [
    "import pandas as pd\n",
    "import numpy as np\n",
    "import matplotlib\n",
    "import requests\n",
    "import json"
   ]
  },
  {
   "cell_type": "code",
   "execution_count": 8,
   "id": "6719dec6",
   "metadata": {
    "scrolled": true
   },
   "outputs": [
    {
     "data": {
      "text/html": [
       "<div>\n",
       "<style scoped>\n",
       "    .dataframe tbody tr th:only-of-type {\n",
       "        vertical-align: middle;\n",
       "    }\n",
       "\n",
       "    .dataframe tbody tr th {\n",
       "        vertical-align: top;\n",
       "    }\n",
       "\n",
       "    .dataframe thead th {\n",
       "        text-align: right;\n",
       "    }\n",
       "</style>\n",
       "<table border=\"1\" class=\"dataframe\">\n",
       "  <thead>\n",
       "    <tr style=\"text-align: right;\">\n",
       "      <th></th>\n",
       "      <th>FIPS</th>\n",
       "      <th>State</th>\n",
       "      <th>Th1_Historic_Undervaccination</th>\n",
       "      <th>Th2_Sociodemographic_Barriers</th>\n",
       "      <th>Th3_Resource_constrained_Healthcare_System</th>\n",
       "      <th>Th4_Healthcare_Accessibility_Barriers</th>\n",
       "      <th>Th5_Irregular_Care_Seeking_Behavior</th>\n",
       "      <th>CVAC</th>\n",
       "    </tr>\n",
       "  </thead>\n",
       "  <tbody>\n",
       "    <tr>\n",
       "      <th>0</th>\n",
       "      <td>1</td>\n",
       "      <td>Alabama</td>\n",
       "      <td>0.36</td>\n",
       "      <td>0.88</td>\n",
       "      <td>0.52</td>\n",
       "      <td>0.96</td>\n",
       "      <td>0.80</td>\n",
       "      <td>0.78</td>\n",
       "    </tr>\n",
       "    <tr>\n",
       "      <th>1</th>\n",
       "      <td>2</td>\n",
       "      <td>Alaska</td>\n",
       "      <td>0.98</td>\n",
       "      <td>0.16</td>\n",
       "      <td>0.14</td>\n",
       "      <td>0.98</td>\n",
       "      <td>0.96</td>\n",
       "      <td>0.70</td>\n",
       "    </tr>\n",
       "    <tr>\n",
       "      <th>2</th>\n",
       "      <td>4</td>\n",
       "      <td>Arizona</td>\n",
       "      <td>0.92</td>\n",
       "      <td>0.52</td>\n",
       "      <td>0.96</td>\n",
       "      <td>0.38</td>\n",
       "      <td>0.92</td>\n",
       "      <td>0.88</td>\n",
       "    </tr>\n",
       "    <tr>\n",
       "      <th>3</th>\n",
       "      <td>5</td>\n",
       "      <td>Arkansas</td>\n",
       "      <td>0.34</td>\n",
       "      <td>0.96</td>\n",
       "      <td>0.74</td>\n",
       "      <td>0.88</td>\n",
       "      <td>0.78</td>\n",
       "      <td>0.88</td>\n",
       "    </tr>\n",
       "    <tr>\n",
       "      <th>4</th>\n",
       "      <td>6</td>\n",
       "      <td>California</td>\n",
       "      <td>0.80</td>\n",
       "      <td>0.44</td>\n",
       "      <td>0.80</td>\n",
       "      <td>0.08</td>\n",
       "      <td>0.96</td>\n",
       "      <td>0.68</td>\n",
       "    </tr>\n",
       "  </tbody>\n",
       "</table>\n",
       "</div>"
      ],
      "text/plain": [
       "   FIPS       State  Th1_Historic_Undervaccination  \\\n",
       "0     1     Alabama                           0.36   \n",
       "1     2      Alaska                           0.98   \n",
       "2     4     Arizona                           0.92   \n",
       "3     5    Arkansas                           0.34   \n",
       "4     6  California                           0.80   \n",
       "\n",
       "   Th2_Sociodemographic_Barriers  Th3_Resource_constrained_Healthcare_System  \\\n",
       "0                           0.88                                        0.52   \n",
       "1                           0.16                                        0.14   \n",
       "2                           0.52                                        0.96   \n",
       "3                           0.96                                        0.74   \n",
       "4                           0.44                                        0.80   \n",
       "\n",
       "   Th4_Healthcare_Accessibility_Barriers  Th5_Irregular_Care_Seeking_Behavior  \\\n",
       "0                                   0.96                                 0.80   \n",
       "1                                   0.98                                 0.96   \n",
       "2                                   0.38                                 0.92   \n",
       "3                                   0.88                                 0.78   \n",
       "4                                   0.08                                 0.96   \n",
       "\n",
       "   CVAC  \n",
       "0  0.78  \n",
       "1  0.70  \n",
       "2  0.88  \n",
       "3  0.88  \n",
       "4  0.68  "
      ]
     },
     "execution_count": 8,
     "metadata": {},
     "output_type": "execute_result"
    }
   ],
   "source": [
    "barriers_df = pd.read_csv(r\"C:\\Users\\hitst\\Documents\\GitHub\\covid-healthequity\\covid19_project\\Resources\\CVAC_data_Feb2021.csv\")\n",
    "barriers_df.head()"
   ]
  },
  {
   "cell_type": "code",
   "execution_count": 13,
   "id": "335d148e",
   "metadata": {
    "scrolled": true
   },
   "outputs": [
    {
     "data": {
      "text/html": [
       "<div>\n",
       "<style scoped>\n",
       "    .dataframe tbody tr th:only-of-type {\n",
       "        vertical-align: middle;\n",
       "    }\n",
       "\n",
       "    .dataframe tbody tr th {\n",
       "        vertical-align: top;\n",
       "    }\n",
       "\n",
       "    .dataframe thead th {\n",
       "        text-align: right;\n",
       "    }\n",
       "</style>\n",
       "<table border=\"1\" class=\"dataframe\">\n",
       "  <thead>\n",
       "    <tr style=\"text-align: right;\">\n",
       "      <th></th>\n",
       "      <th>outcome</th>\n",
       "      <th>month</th>\n",
       "      <th>mmwr_week</th>\n",
       "      <th>week_date</th>\n",
       "      <th>age_group</th>\n",
       "      <th>vaccine_product</th>\n",
       "      <th>crude_vax_ir</th>\n",
       "      <th>crude_unvax_ir</th>\n",
       "      <th>crude_irr</th>\n",
       "    </tr>\n",
       "  </thead>\n",
       "  <tbody>\n",
       "    <tr>\n",
       "      <th>0</th>\n",
       "      <td>case</td>\n",
       "      <td>04 - APR</td>\n",
       "      <td>14</td>\n",
       "      <td>Apr 04-Apr 10</td>\n",
       "      <td>12-17</td>\n",
       "      <td>all_types</td>\n",
       "      <td>14.021312</td>\n",
       "      <td>231.534316</td>\n",
       "      <td>16.513027</td>\n",
       "    </tr>\n",
       "    <tr>\n",
       "      <th>1</th>\n",
       "      <td>case</td>\n",
       "      <td>04 - APR</td>\n",
       "      <td>14</td>\n",
       "      <td>Apr 04-Apr 10</td>\n",
       "      <td>18-29</td>\n",
       "      <td>all_types</td>\n",
       "      <td>33.231686</td>\n",
       "      <td>274.515844</td>\n",
       "      <td>8.260666</td>\n",
       "    </tr>\n",
       "    <tr>\n",
       "      <th>2</th>\n",
       "      <td>case</td>\n",
       "      <td>04 - APR</td>\n",
       "      <td>14</td>\n",
       "      <td>Apr 04-Apr 10</td>\n",
       "      <td>30-49</td>\n",
       "      <td>all_types</td>\n",
       "      <td>30.460406</td>\n",
       "      <td>250.979057</td>\n",
       "      <td>8.239518</td>\n",
       "    </tr>\n",
       "    <tr>\n",
       "      <th>3</th>\n",
       "      <td>case</td>\n",
       "      <td>04 - APR</td>\n",
       "      <td>14</td>\n",
       "      <td>Apr 04-Apr 10</td>\n",
       "      <td>50-64</td>\n",
       "      <td>all_types</td>\n",
       "      <td>26.446469</td>\n",
       "      <td>192.311420</td>\n",
       "      <td>7.271724</td>\n",
       "    </tr>\n",
       "    <tr>\n",
       "      <th>4</th>\n",
       "      <td>case</td>\n",
       "      <td>04 - APR</td>\n",
       "      <td>14</td>\n",
       "      <td>Apr 04-Apr 10</td>\n",
       "      <td>65-79</td>\n",
       "      <td>all_types</td>\n",
       "      <td>13.722635</td>\n",
       "      <td>159.418827</td>\n",
       "      <td>11.617217</td>\n",
       "    </tr>\n",
       "  </tbody>\n",
       "</table>\n",
       "</div>"
      ],
      "text/plain": [
       "  outcome     month  mmwr_week      week_date age_group vaccine_product  \\\n",
       "0    case  04 - APR         14  Apr 04-Apr 10     12-17       all_types   \n",
       "1    case  04 - APR         14  Apr 04-Apr 10     18-29       all_types   \n",
       "2    case  04 - APR         14  Apr 04-Apr 10     30-49       all_types   \n",
       "3    case  04 - APR         14  Apr 04-Apr 10     50-64       all_types   \n",
       "4    case  04 - APR         14  Apr 04-Apr 10     65-79       all_types   \n",
       "\n",
       "   crude_vax_ir  crude_unvax_ir  crude_irr  \n",
       "0     14.021312      231.534316  16.513027  \n",
       "1     33.231686      274.515844   8.260666  \n",
       "2     30.460406      250.979057   8.239518  \n",
       "3     26.446469      192.311420   7.271724  \n",
       "4     13.722635      159.418827  11.617217  "
      ]
     },
     "execution_count": 13,
     "metadata": {},
     "output_type": "execute_result"
    }
   ],
   "source": [
    "deaths_vaccstatus_df = pd.read_csv(r\"C:\\Users\\hitst\\Documents\\GitHub\\covid-healthequity\\covid19_project\\Resources\\cases_and_deaths_by_vaccination_status.csv\")\n",
    "deaths_vaccstatus_df.head()"
   ]
  },
  {
   "cell_type": "code",
   "execution_count": 20,
   "id": "129a0b45",
   "metadata": {},
   "outputs": [],
   "source": [
    "hospitilizations_df = pd.read_csv(r\"C:\\Users\\hitst\\Documents\\GitHub\\covid-healthequity\\covid19_project\\Resources\\associated_hospitalizations_by_vaccine_status_in_adults_january-august_2021.csv\")\n",
    "hospitilizations_df.head()"
   ]
  },
  {
   "cell_type": "code",
   "execution_count": 17,
   "id": "26c289f7",
   "metadata": {},
   "outputs": [
    {
     "data": {
      "text/plain": [
       "<Response [200]>"
      ]
     },
     "execution_count": 17,
     "metadata": {},
     "output_type": "execute_result"
    }
   ],
   "source": [
    "# COVID19 Case Surveillance\n",
    "\n",
    "covid19_surv_url = \"https://data.cdc.gov/resource/n8mc-b4w4.json\"\n",
    "response1 = requests.get(covid19_surv_url)\n",
    "response1\n"
   ]
  },
  {
   "cell_type": "code",
   "execution_count": 18,
   "id": "9ac58b36",
   "metadata": {},
   "outputs": [
    {
     "data": {
      "text/plain": [
       "<Response [200]>"
      ]
     },
     "execution_count": 18,
     "metadata": {},
     "output_type": "execute_result"
    }
   ],
   "source": [
    "# Vaccination and Case Trends by Age\n",
    "\n",
    "covid19_vacc_trends_url = \"https://data.cdc.gov/resource/gxj9-t96f.json\"\n",
    "response2 = requests.get(covid19_vacc_trends_url)\n",
    "response2"
   ]
  },
  {
   "cell_type": "code",
   "execution_count": null,
   "id": "e5b9862b",
   "metadata": {},
   "outputs": [],
   "source": []
  }
 ],
 "metadata": {
  "kernelspec": {
   "display_name": "Python 3",
   "language": "python",
   "name": "python3"
  },
  "language_info": {
   "codemirror_mode": {
    "name": "ipython",
    "version": 3
   },
   "file_extension": ".py",
   "mimetype": "text/x-python",
   "name": "python",
   "nbconvert_exporter": "python",
   "pygments_lexer": "ipython3",
   "version": "3.8.8"
  }
 },
 "nbformat": 4,
 "nbformat_minor": 5
}
